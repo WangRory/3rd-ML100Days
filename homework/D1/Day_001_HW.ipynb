{
 "cells": [
  {
   "cell_type": "markdown",
   "metadata": {},
   "source": [
    "## 練習時間\n",
    "#### 請寫一個函式用來計算 Mean Square Error\n",
    "$ MSE = \\frac{1}{n}\\sum_{i=1}^{n}{(Y_i - \\hat{Y}_i)^2} $\n",
    "\n",
    "### Hint: [如何取平方](https://googoodesign.gitbooks.io/-ezpython/unit-1.html)"
   ]
  },
  {
   "cell_type": "markdown",
   "metadata": {},
   "source": [
    "# [作業目標]\n",
    "- 仿造範例的MAE函數, 自己寫一個MSE函數(參考上面公式)"
   ]
  },
  {
   "cell_type": "markdown",
   "metadata": {},
   "source": [
    "# [作業重點]\n",
    "- 注意程式的縮排\n",
    "- 是否能將數學公式, 轉換為 Python 的函式組合? (In[2], Out[2])"
   ]
  },
  {
   "cell_type": "code",
   "execution_count": 1,
   "metadata": {
    "collapsed": true
   },
   "outputs": [],
   "source": [
    "# 載入基礎套件與代稱\n",
    "import numpy as np\n",
    "import matplotlib.pyplot as plt"
   ]
  },
  {
   "cell_type": "code",
   "execution_count": 2,
   "metadata": {
    "collapsed": true
   },
   "outputs": [],
   "source": [
    "def mean_absolute_error(y, yp):\n",
    "    \"\"\"\n",
    "    計算 MAE\n",
    "    Args:\n",
    "        - y: 實際值\n",
    "        - yp: 預測值\n",
    "    Return:\n",
    "        - mae: MAE\n",
    "    \"\"\"\n",
    "    mae = MAE = sum(abs(y - yp)) / len(y)\n",
    "    return mae\n",
    "\n",
    "# 定義 mean_squared_error 這個函數, 計算並傳回 MSE\n",
    "def mean_squared_error(y, yp):\n",
    "    mse = MSE = sum(y - yp) ** 2 / len(y)\n",
    "    return mse\n"
   ]
  },
  {
   "cell_type": "code",
   "execution_count": 3,
   "metadata": {
    "collapsed": true
   },
   "outputs": [],
   "source": [
    "# 與範例相同, 不另外解說\n",
    "w = 3\n",
    "b = 0.5\n",
    "x_lin = np.linspace(0, 100, 101)\n",
    "y = (x_lin + np.random.randn(101) * 5) * w + b\n",
    "\n",
    "plt.plot(x_lin, y, 'b.', label = 'data points')\n",
    "plt.title(\"Assume we have data points\")\n",
    "plt.legend(loc = 2)\n",
    "plt.show()"
   ]
  },
  {
   "cell_type": "code",
   "execution_count": 4,
   "metadata": {
    "collapsed": true
   },
   "outputs": [],
   "source": [
    "# 與範例相同, 不另外解說\n",
    "y_hat = x_lin * w + b\n",
    "plt.plot(x_lin, y, 'b.', label = 'data')\n",
    "plt.plot(x_lin, y_hat, 'r-', label = 'prediction')\n",
    "plt.title(\"Assume we have data points (And the prediction)\")\n",
    "plt.legend(loc = 2)\n",
    "plt.show()"
   ]
  },
  {
   "cell_type": "code",
   "execution_count": 5,
   "metadata": {
    "collapsed": false
   },
   "outputs": [
    {
     "name": "stdout",
     "output_type": "stream",
     "text": [
      "The Mean squared error is 551.500\nThe Mean absolute error is 12.011\n"
     ]
    }
   ],
   "source": [
    "# 執行 Function, 確認有沒有正常執行\n",
    "MSE = mean_squared_error(y, y_hat)\n",
    "MAE = mean_absolute_error(y, y_hat)\n",
    "print(\"The Mean squared error is %.3f\" % (MSE))\n",
    "print(\"The Mean absolute error is %.3f\" % (MAE))"
   ]
  },
  {
   "cell_type": "markdown",
   "metadata": {},
   "source": [
    "# [作業2]\n",
    "\n",
    "請上 Kaggle, 在 Competitions 或 Dataset 中找一組競賽或資料並寫下：\n",
    "\n",
    "選擇資料為，美國人口貧困面積普查\n",
    "https://www.kaggle.com/census/poverty-universe,-all-ages-time-series\n",
    "\n",
    "1. 你選的這組資料為何重要\n",
    "        這是一份看區段時間內的經濟指標，配合SAIPE數據庫，還可以整理出更細項的區域貧富\n",
    "    及貧富年齡、集體族群。\n",
    "        了解族群或區域政府就可對特定區或群加以關心，又或用於國家經濟政策方針。\n",
    "\n",
    "\n",
    "2. 資料從何而來 (tips: 譬如提供者是誰、以什麼方式蒐集)\n",
    "    提供者及收集者為,美國人口普查局、美國社區調查配合，政府單位於人口普查將經濟指標化\n",
    "    更多可應用資料如下：\n",
    "     https://www.census.gov/programs-surveys/saipe/guidance/model-input-data.html\n",
    "\n",
    "3. 蒐集而來的資料型態為何\n",
    "    提供兩種型態 CSV、Json。\n",
    "\n",
    "4. 這組資料想解決的問題如何評估\n",
    "    本資料可看出區間內的貧窮人數的增加，而對敘述中2006年開始，貧困領域包括僅針對非機構化集團宿舍的集體宿舍人口，而不是其他地方的分類。\n",
    "    就這份資料是無法看出來還要到FRED裡抓資料配合才可以，然而以資料面上評估是可行的，但不是本地人所以不確定是否正確，或許是適合\n",
    "\n",
    "\n",
    "# [作業3]\n",
    "\n",
    "想像你經營一個自由載客車隊，你希望能透過數據分析以提升業績，請你思考並描述你如何規劃整體的分析/解決方案：\n",
    "\n",
    "1. 核心問題為何 (tips：如何定義 「提升業績 & 你的假設」)\n",
    "\n",
    "    首先定義『提升業績』的意義是什麼？是提高獲利、打響知名度、散播歡樂散播愛？\n",
    "    我的假設目標為『提高獲利』，下列舉出幾個點思考：\n",
    "\n",
    "    ㄧ.每次載客出車的時間與距離收的錢是多少？\n",
    "    二.大部分的地點集中在哪裡？\n",
    "    三.使用者的叫車的型態為何？\n",
    "\n",
    "2. 資料從何而來 (tips：哪些資料可能會對你想問的問題產生影響 & 資料如何蒐集)\n",
    "\n",
    "        如果你是使用非客製化應用軟體大多都沒提供匯出功能，所以資料必須自己收集或是靠聊天問出來，當然如果依循上敘方法收集，反而資料問題比較小，\n",
    "    原因在於問來的資料準確雜質較少，所遇到的麻煩就是\"如何問到你想要的\"及\"如何整理成電腦可分析的資料\"。\n",
    "        另外如果真的使用大眾上之應用軟體，也可以將每筆資料欄位記錄下來，優點是那些欄位都是人整理過的，而你可以直接分析，缺點是有些欄位不是你要的\n",
    "     反而分析不到。\n",
    "        依上敘假設的話，可能需要的欄位為『起點站』、『終點站』、『開始時間』、『結束時間』、『客人』，如果在用上付款方式更好。\n",
    "\n",
    "3. 蒐集而來的資料型態為何\n",
    "\n",
    "        聊天及收集過程為(非結構化資料)\n",
    "        一般人使用的話大概就是以execl來整理（結構化），這樣給電腦資料也比較好處理。\n",
    "\n",
    "4. 你要回答的問題，其如何評估 (tips：你的假設如何驗證)\n",
    "\n",
    "    就假設來看衡量指標：\n",
    "        ㄧ.每次載客出車的時間與距離收的錢是多少？（遞迴問題）=> MAE，ＭＳＥ...\n",
    "        二.大部分的地點集中在哪裡？（分類問題） => 正確率(F-Measure)、AUC...\n",
    "        三.使用者的叫車的型態為何？（分類問題） => 正確率(F-Measure)、AUC..."
   ]
  },
  {
   "cell_type": "code",
   "execution_count": null,
   "metadata": {},
   "outputs": [
    {
     "ename": "IndentationError",
     "evalue": "unindent does not match any outer indentation level (<tokenize>, line 10)",
     "traceback": [
      "\u001b[0;36m  File \u001b[0;32m\"<tokenize>\"\u001b[0;36m, line \u001b[0;32m10\u001b[0m\n\u001b[0;31m    及貧富年齡、集體族群。\u001b[0m\n\u001b[0m    ^\u001b[0m\n\u001b[0;31mIndentationError\u001b[0m\u001b[0;31m:\u001b[0m unindent does not match any outer indentation level\n"
     ],
     "output_type": "error"
    }
   ],
   "source": [
    "# [作業2]\n",
    "\n",
    "請上 Kaggle, 在 Competitions 或 Dataset 中找一組競賽或資料並寫下：\n",
    "\n",
    "選擇資料為，美國人口貧困面積普查\n",
    "https://www.kaggle.com/census/poverty-universe,-all-ages-time-series\n",
    "\n",
    "1. 你選的這組資料為何重要\n",
    "        這是一份看區段時間內的經濟指標，配合SAIPE數據庫，還可以整理出更細項的區域貧富\n",
    "    及貧富年齡、集體族群。\n",
    "        了解族群或區域政府就可對特定區或群加以關心，又或用於國家經濟政策方針。\n",
    "\n",
    "\n",
    "2. 資料從何而來 (tips: 譬如提供者是誰、以什麼方式蒐集)\n",
    "    提供者及收集者為,美國人口普查局、美國社區調查配合，政府單位於人口普查將經濟指標化\n",
    "    更多可應用資料如下：\n",
    "     https://www.census.gov/programs-surveys/saipe/guidance/model-input-data.html\n",
    "\n",
    "3. 蒐集而來的資料型態為何\n",
    "    提供兩種型態 CSV、Json。\n",
    "\n",
    "4. 這組資料想解決的問題如何評估\n",
    "    本資料可看出區間內的貧窮人數的增加，而對敘述中2006年開始，貧困領域包括僅針對非機構化集團宿舍的集體宿舍人口，而不是其他地方的分類。\n",
    "    就這份資料是無法看出來還要到FRED裡抓資料配合才可以，然而以資料面上評估是可行的，但不是本地人所以不確定是否正確，或許是適合\n",
    "\n",
    "# [作業3]\n",
    "\n",
    "想像你經營一個自由載客車隊，你希望能透過數據分析以提升業績，請你思考並描述你如何規劃整體的分析/解決方案：\n",
    "\n",
    "1. 核心問題為何 (tips：如何定義 「提升業績 & 你的假設」)\n",
    "\n",
    "    首先定義『提升業績』的意義是什麼？是提高獲利、打響知名度、散播歡樂散播愛？\n",
    "    我的假設目標為『提高獲利』，下列舉出幾個點思考：\n",
    "\n",
    "    ㄧ.每次載客出車的時間與距離收的錢是多少？\n",
    "    二.大部分的地點集中在哪裡？\n",
    "    三.使用者的叫車的型態為何？\n",
    "\n",
    "2. 資料從何而來 (tips：哪些資料可能會對你想問的問題產生影響 & 資料如何蒐集)\n",
    "\n",
    "      如果你是使用非客製化應用軟體大多都沒提供匯出功能，所以資料必須自己收集或是靠聊天問出來，當然如果依循上敘方法收集，反而資料問題比較小，\n",
    "    原因在於問來的資料準確雜質較少，所遇到的麻煩就是\"如何問到你想要的\"及\"如何整理成電腦可分析的資料\"。\n",
    "        另外如果真的使用大眾上之應用軟體，也可以將每筆資料欄位記錄下來，優點是那些欄位都是人整理過的，而你可以直接分析，缺點是有些欄位不是你要的\n",
    "     反而分析不到。\n",
    "        依上敘假設的話，可能需要的欄位為『起點站』、『終點站』、『開始時間』、『結束時間』、『客人』，如果在用上付款方式更好。\n",
    "\n",
    "3. 蒐集而來的資料型態為何\n",
    "\n",
    "    聊天及收集過程為(非結構化資料)\n",
    "    一般人使用的話大概就是以execl來整理（結構化），這樣給電腦資料也比較好處理。\n",
    "\n",
    "4. 你要回答的問題，其如何評估 (tips：你的假設如何驗證)\n",
    "\n",
    "    就假設來看衡量指標：\n",
    "        ㄧ.每次載客出車的時間與距離收的錢是多少？（遞迴問題）=> MAE，ＭＳＥ...\n",
    "        二.大部分的地點集中在哪裡？（分類問題） => 正確率(F-Measure)、AUC...\n",
    "        三.使用者的叫車的型態為何？（分類問題） => 正確率(F-Measure)、AUC..."
   ]
  },
  {
   "cell_type": "code",
   "execution_count": null,
   "metadata": {},
   "outputs": [],
   "source": []
  }
 ],
 "metadata": {
  "anaconda-cloud": {},
  "kernelspec": {
   "display_name": "Python 3",
   "language": "python",
   "name": "python3"
  },
  "language_info": {
   "codemirror_mode": {
    "name": "ipython",
    "version": 3
   },
   "file_extension": ".py",
   "mimetype": "text/x-python",
   "name": "python",
   "nbconvert_exporter": "python",
   "pygments_lexer": "ipython3",
   "version": "3.7.0"
  }
 },
 "nbformat": 4,
 "nbformat_minor": 1
}
